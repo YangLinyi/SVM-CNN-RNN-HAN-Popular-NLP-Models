{
 "cells": [
  {
   "cell_type": "code",
   "execution_count": 1,
   "metadata": {},
   "outputs": [],
   "source": [
    "import pandas as pd\n",
    "import numpy as np\n",
    "\n",
    "train_data = pd.read_excel(\"train.xls\")\n",
    "valid_data = pd.read_excel(\"valid.xls\")\n",
    "test_data = pd.read_excel(\"test.xls\")\n",
    "\n",
    "#train集\n",
    "train_x = train_data['Deal_editorial'].values\n",
    "train_y = train_data['Deal_status'].values\n",
    "np.save('train_x.npy',train_x)\n",
    "np.save('train_y.npy',train_y)\n",
    "#valid集\n",
    "valid_x = valid_data['Deal_editorial'].values\n",
    "valid_y = valid_data['Deal_status'].values\n",
    "np.save('valid_x.npy',valid_x)\n",
    "np.save('valid_y.npy',valid_y)\n",
    "#test集\n",
    "test_x = test_data['Deal_editorial'].values\n",
    "test_y = test_data['Deal_status'].values\n",
    "np.save('test_x.npy',test_x)\n",
    "np.save('test_y.npy',test_y)"
   ]
  },
  {
   "cell_type": "code",
   "execution_count": null,
   "metadata": {},
   "outputs": [],
   "source": []
  }
 ],
 "metadata": {
  "kernelspec": {
   "display_name": "Python 3",
   "language": "python",
   "name": "python3"
  },
  "language_info": {
   "codemirror_mode": {
    "name": "ipython",
    "version": 3
   },
   "file_extension": ".py",
   "mimetype": "text/x-python",
   "name": "python",
   "nbconvert_exporter": "python",
   "pygments_lexer": "ipython3",
   "version": "3.7.3"
  }
 },
 "nbformat": 4,
 "nbformat_minor": 4
}
